{
 "cells": [
  {
   "cell_type": "raw",
   "id": "57a583f6",
   "metadata": {},
   "source": [
    "---\n",
    "title: An R Markdown document converted from \"my_first_colab_notebook.ipynb\"\n",
    "output: html_document\n",
    "---"
   ]
  },
  {
   "cell_type": "markdown",
   "id": "08915d42",
   "metadata": {},
   "source": [
    "<a href=\"https://colab.research.google.com/github/pcarbo/colab/blob/main/my_first_colab_notebook_from_jupytext.ipynb\" target=\"_parent\"><img src=\"https://colab.research.google.com/assets/colab-badge.svg\" alt=\"Open In Colab\"/></a>"
   ]
  },
  {
   "cell_type": "code",
   "execution_count": null,
   "id": "8604f12a",
   "metadata": {},
   "outputs": [],
   "source": [
    "source(\"myfunctions.R\")\n",
    "scale.cols"
   ]
  },
  {
   "cell_type": "markdown",
   "id": "b2a8cf42",
   "metadata": {},
   "source": [
    "# New Section"
   ]
  },
  {
   "cell_type": "code",
   "execution_count": null,
   "id": "a5204033",
   "metadata": {},
   "outputs": [],
   "source": [
    "cat(system('python3 -c \"from google.colab import drive\\ndrive.mount()\"', intern=TRUE), sep='\\n', wait=TRUE)"
   ]
  },
  {
   "cell_type": "code",
   "execution_count": null,
   "id": "88aee226",
   "metadata": {},
   "outputs": [],
   "source": [
    "install.packages(\"rgl\", repos = \"http://cran.rstudio.com/\")\n",
    "install.packages(\"ConsRank\", repos = \"http://cran.rstudio.com/\")\n",
    "library(\"ConsRank\")"
   ]
  },
  {
   "cell_type": "code",
   "execution_count": null,
   "id": "3c76bf09",
   "metadata": {},
   "outputs": [],
   "source": [
    "getwd()"
   ]
  },
  {
   "cell_type": "code",
   "execution_count": null,
   "id": "50e6bed4",
   "metadata": {},
   "outputs": [],
   "source": [
    "system(\"cat sample_data/README.md\",intern = TRUE)"
   ]
  },
  {
   "cell_type": "code",
   "execution_count": null,
   "id": "ee8b0fdf",
   "metadata": {},
   "outputs": [],
   "source": [
    "system(\"which R\",intern = TRUE)\n",
    "system(\"R --version\",intern = TRUE)"
   ]
  },
  {
   "cell_type": "code",
   "execution_count": null,
   "id": "1bc723b8",
   "metadata": {},
   "outputs": [],
   "source": [
    "system(\"add-apt-repository -y ppa:marutter/rrutter\")\n",
    "system(\"add-apt-repository -y ppa:marutter/c2d4u\")\n",
    "system(\"apt-get update\")\n",
    "system(\"apt install -y r-cran-rstan\")"
   ]
  },
  {
   "cell_type": "code",
   "execution_count": null,
   "id": "1cb165bd",
   "metadata": {},
   "outputs": [],
   "source": [
    "install.packages('ggmap')\n",
    "install.packages('codetools')"
   ]
  },
  {
   "cell_type": "code",
   "execution_count": null,
   "id": "ebf0c5be",
   "metadata": {},
   "outputs": [],
   "source": [
    "library(\"ggmap\")"
   ]
  },
  {
   "cell_type": "code",
   "execution_count": null,
   "id": "47b54d9c",
   "metadata": {},
   "outputs": [],
   "source": [
    "print('hello')\n",
    "cat(\"Hi, how are you?\\n\")"
   ]
  },
  {
   "cell_type": "code",
   "execution_count": null,
   "id": "da6e9198",
   "metadata": {},
   "outputs": [],
   "source": [
    "hist(rnorm(1000),n = 64)"
   ]
  },
  {
   "cell_type": "code",
   "execution_count": null,
   "id": "31792ccf",
   "metadata": {},
   "outputs": [],
   "source": [
    "system(\"ls /usr/local/lib/R/site-library/rgl/libs\",intern = TRUE)\n",
    "system(\"ldd /usr/local/lib/R/site-library/rgl/libs/rgl.so\",intern = TRUE)"
   ]
  },
  {
   "cell_type": "code",
   "execution_count": null,
   "id": "09f7077f",
   "metadata": {},
   "outputs": [],
   "source": [
    "options(repr.plot.width  = 3,\n",
    "        repr.plot.height = 3)\n",
    "Sys.setenv(USE_CXX14 = 1)\n",
    "library(\"rstan\") # observe startup messages\n",
    "options(mc.cores = parallel::detectCores())\n",
    "rstan_options(auto_write = TRUE)"
   ]
  },
  {
   "cell_type": "markdown",
   "id": "e2e8324d",
   "metadata": {},
   "source": [
    "This is the rank-1 GLM-PCA model: $x_{ij} \\sim \\mathrm{Pois}(\\lambda_ij), \\lambda_{ij} = e^{l_i f_j}$"
   ]
  },
  {
   "cell_type": "code",
   "execution_count": null,
   "id": "0dd45445",
   "metadata": {},
   "outputs": [],
   "source": [
    "system(\"apt list --installed\",intern = TRUE)"
   ]
  },
  {
   "cell_type": "code",
   "execution_count": null,
   "id": "e166969e",
   "metadata": {},
   "outputs": [],
   "source": [
    "cat(system(\"cat /proc/cpuinfo\",intern = TRUE),sep = \"\\n\")\n",
    "cat(system(\"cat /proc/meminfo\",intern = TRUE),sep = \"\\n\")\n",
    "cat(system(\"cat /proc/version\",intern = TRUE),sep = \"\\n\")"
   ]
  },
  {
   "cell_type": "code",
   "execution_count": null,
   "id": "d8371774",
   "metadata": {},
   "outputs": [],
   "source": [
    "system(\"apt-get install libgsl-dev\",intern = TRUE)"
   ]
  },
  {
   "cell_type": "code",
   "execution_count": null,
   "id": "04184a26",
   "metadata": {},
   "outputs": [],
   "source": [
    "install.packages(\"RcppGSL\")"
   ]
  },
  {
   "cell_type": "code",
   "execution_count": null,
   "id": "282319ec",
   "metadata": {},
   "outputs": [],
   "source": [
    "library(RcppGSL)\n",
    "LdFlags()"
   ]
  },
  {
   "cell_type": "code",
   "execution_count": null,
   "id": "f022226d",
   "metadata": {},
   "outputs": [],
   "source": [
    "system(\"unzip mixsqp.zip\",intern = TRUE)"
   ]
  },
  {
   "cell_type": "code",
   "execution_count": null,
   "id": "b4d7e2e2",
   "metadata": {},
   "outputs": [],
   "source": [
    "system(\"R CMD build mixsqp\",intern = TRUE)"
   ]
  },
  {
   "cell_type": "code",
   "execution_count": null,
   "id": "e64e0381",
   "metadata": {},
   "outputs": [],
   "source": [
    "system(\"R CMD INSTALL mixsqp_0.3-48.tar.gz\",intern = TRUE)"
   ]
  },
  {
   "cell_type": "code",
   "execution_count": null,
   "id": "0961d45e",
   "metadata": {},
   "outputs": [],
   "source": [
    "system(\"g++ --version\",intern = TRUE)"
   ]
  },
  {
   "cell_type": "code",
   "execution_count": null,
   "id": "3b764da1",
   "metadata": {},
   "outputs": [],
   "source": [
    "remotes::install_github(\"stephenslab/mixsqp\",upgrade = \"never\",\n",
    "                        verbose = TRUE,force = TRUE)"
   ]
  },
  {
   "cell_type": "code",
   "execution_count": null,
   "id": "1377c947",
   "metadata": {},
   "outputs": [],
   "source": [
    "library(mixsqp)"
   ]
  },
  {
   "cell_type": "code",
   "execution_count": null,
   "id": "286efd62",
   "metadata": {},
   "outputs": [],
   "source": [
    "x <- seq(0, 2*pi, length.out=50)\n",
    "plot(x, sin(x))"
   ]
  },
  {
   "cell_type": "code",
   "execution_count": null,
   "id": "2d5b1138",
   "metadata": {},
   "outputs": [],
   "source": [
    "stanmodelcode <- \"\n",
    "data {\n",
    "    int<lower=0> N; \n",
    "    real y[N];\n",
    "}\n",
    "\n",
    "parameters {\n",
    "    real mu; \n",
    "\n",
    "}\n",
    "\n",
    "model {\n",
    "    target += normal_lpdf(mu | 0, 10);\n",
    "    target += normal_lpdf(y | mu, 1);\n",
    "}\"\n",
    "\n",
    "y <- rnorm(20)\n",
    "dat <- list(N = 20, y = y);\n",
    "\n",
    "fit <- stan(model_code = stanmodelcode, model_name = \"example\",\n",
    "            data = dat, iter = 2012, chains = 8, sample_file = 'norm.csv',\n",
    "            verbose = FALSE,\n",
    "            refresh = -1)\n",
    "\n",
    "print(fit)"
   ]
  },
  {
   "cell_type": "code",
   "execution_count": null,
   "id": "7f803e20",
   "metadata": {},
   "outputs": [],
   "source": [
    "plot(fit)"
   ]
  },
  {
   "cell_type": "code",
   "execution_count": null,
   "id": "309b1906",
   "metadata": {},
   "outputs": [],
   "source": [
    "y <- as.matrix(read.table('https://raw.github.com/wiki/stan-dev/rstan/rats.txt', header = TRUE))\n",
    "x <- c(8, 15, 22, 29, 36)\n",
    "xbar <- mean(x)\n",
    "N <- nrow(y)\n",
    "T <- ncol(y)\n",
    "rats_fit <- stan(file = 'https://raw.githubusercontent.com/stan-dev/example-models/master/bugs_examples/vol1/rats/rats.stan')"
   ]
  },
  {
   "cell_type": "code",
   "execution_count": null,
   "id": "97064803",
   "metadata": {},
   "outputs": [],
   "source": [
    "rats_fit"
   ]
  },
  {
   "cell_type": "code",
   "execution_count": null,
   "id": "25356374",
   "metadata": {},
   "outputs": [],
   "source": [
    "plot(rats_fit)"
   ]
  },
  {
   "cell_type": "code",
   "execution_count": null,
   "id": "e077ec26",
   "metadata": {},
   "outputs": [],
   "source": [
    "## load APA data set, full version\n",
    "data(APAFULL)\n",
    "## Emond and Mason Branch-and-Bound algorithm.\n",
    "## If the number of object is higher than 20, EMCons function may work for several minutes.\n",
    "## Use either QuickCons, DECOR, FASTcons or FASTDECOR instead\n",
    "CR=EMCons(APAFULL)"
   ]
  },
  {
   "cell_type": "code",
   "execution_count": null,
   "id": "cac4cc01",
   "metadata": {},
   "outputs": [],
   "source": [
    "TR=tabulaterows(APAFULL)\n",
    "CR2=FASTcons(TR$X,TR$Wk,maxiter=5)\n",
    "CR3=QuickCons(TR$X,TR$Wk)\n",
    "CR4=DECOR(TR$X,TR$Wk)\n",
    "#####################################\n",
    "### load sports data set\n",
    "#data(sports)\n",
    "### FAST algorithm\n",
    "#CR=FASTcons(sports,maxiter=10)\n",
    "#####################################\n",
    "#######################################\n",
    "### load Emond and Mason data set\n",
    "#data(EMD)\n",
    "### matrix X contains rankings\n",
    "#X=EMD[,1:15]\n",
    "### vector Wk contains frequencies\n",
    "#Wk=EMD[,16]\n",
    "### QUICK algorithm\n",
    "#CR=QuickCons(X,Wk)\n",
    "#######################################"
   ]
  },
  {
   "cell_type": "code",
   "execution_count": null,
   "id": "cdce5425",
   "metadata": {
    "lines_to_next_cell": 0
   },
   "outputs": [],
   "source": [
    "data(BU)\n",
    "polyplot(BU[,1:3],Wk=BU[,4])"
   ]
  },
  {
   "cell_type": "markdown",
   "id": "b5700304",
   "metadata": {},
   "source": []
  }
 ],
 "metadata": {
  "jupytext": {
   "cell_metadata_filter": "-all",
   "main_language": "R",
   "notebook_metadata_filter": "-all"
  }
 },
 "nbformat": 4,
 "nbformat_minor": 5
}
